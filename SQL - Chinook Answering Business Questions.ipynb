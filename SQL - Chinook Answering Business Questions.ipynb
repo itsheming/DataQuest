{
 "cells": [
  {
   "cell_type": "markdown",
   "metadata": {
    "collapsed": true
   },
   "source": [
    "# Chinook: Answering Business Questions Using SQL"
   ]
  },
  {
   "cell_type": "markdown",
   "metadata": {},
   "source": [
    "In this guided project, we're going to practice using our SQL skills to answer business questions.\n",
    "Chinook is a sample database available for SQL Server, Oracle, MySQL, etc.  \n",
    "The data model represents a digital media store, including tables for artists, albums, media tracks, invoices and customers.\n",
    "\n",
    "## Summary\n",
    "- Albums from Meteor and the Girls, Red Tone, and Slim Jim Bites should yield the most sales from the newly signed record label.\n",
    "- The differences in sales across each agents is roughly explained by their hiring dates.\n",
    "- USA has generated the most sales over time.\n",
    "- Countries in 'Other' category should be noted as they make up a significant amount after addition.\n",
    "- Growth shown in countries with high cus_order_lifetime (high spend), and low total_customers.\n",
    "- It is not advisable for management to switch their purchasing strategy to only acquire the most popular track, as 57% of invoices are album purchases"
   ]
  },
  {
   "cell_type": "markdown",
   "metadata": {},
   "source": [
    "###  Lets start by reading in the dataset."
   ]
  },
  {
   "cell_type": "code",
   "execution_count": 28,
   "metadata": {
    "collapsed": false
   },
   "outputs": [
    {
     "data": {
      "text/plain": [
       "'Connected: None@chinook.db'"
      ]
     },
     "execution_count": 28,
     "metadata": {},
     "output_type": "execute_result"
    }
   ],
   "source": [
    "%%capture\n",
    "%load_ext sql\n",
    "%sql sqlite:///chinook.db"
   ]
  },
  {
   "cell_type": "code",
   "execution_count": 29,
   "metadata": {
    "collapsed": false
   },
   "outputs": [
    {
     "name": "stdout",
     "output_type": "stream",
     "text": [
      "Done.\n"
     ]
    },
    {
     "data": {
      "text/html": [
       "<table>\n",
       "    <tr>\n",
       "        <th>name</th>\n",
       "        <th>type</th>\n",
       "        <th>sql</th>\n",
       "    </tr>\n",
       "    <tr>\n",
       "        <td>album</td>\n",
       "        <td>table</td>\n",
       "        <td>CREATE TABLE [album]<br>(<br>    [album_id] INTEGER PRIMARY KEY NOT NULL,<br>    [title] NVARCHAR(160)  NOT NULL,<br>    [artist_id] INTEGER  NOT NULL,<br>    FOREIGN KEY ([artist_id]) REFERENCES [artist] ([artist_id]) <br>\t\tON DELETE NO ACTION ON UPDATE NO ACTION<br>)</td>\n",
       "    </tr>\n",
       "    <tr>\n",
       "        <td>artist</td>\n",
       "        <td>table</td>\n",
       "        <td>CREATE TABLE [artist]<br>(<br>    [artist_id] INTEGER PRIMARY KEY NOT NULL,<br>    [name] NVARCHAR(120)<br>)</td>\n",
       "    </tr>\n",
       "    <tr>\n",
       "        <td>customer</td>\n",
       "        <td>table</td>\n",
       "        <td>CREATE TABLE [customer]<br>(<br>    [customer_id] INTEGER PRIMARY KEY NOT NULL,<br>    [first_name] NVARCHAR(40)  NOT NULL,<br>    [last_name] NVARCHAR(20)  NOT NULL,<br>    [company] NVARCHAR(80),<br>    [address] NVARCHAR(70),<br>    [city] NVARCHAR(40),<br>    [state] NVARCHAR(40),<br>    [country] NVARCHAR(40),<br>    [postal_code] NVARCHAR(10),<br>    [phone] NVARCHAR(24),<br>    [fax] NVARCHAR(24),<br>    [email] NVARCHAR(60)  NOT NULL,<br>    [support_rep_id] INTEGER,<br>    FOREIGN KEY ([support_rep_id]) REFERENCES [employee] ([employee_id]) <br>\t\tON DELETE NO ACTION ON UPDATE NO ACTION<br>)</td>\n",
       "    </tr>\n",
       "    <tr>\n",
       "        <td>employee</td>\n",
       "        <td>table</td>\n",
       "        <td>CREATE TABLE [employee]<br>(<br>    [employee_id] INTEGER PRIMARY KEY NOT NULL,<br>    [last_name] NVARCHAR(20)  NOT NULL,<br>    [first_name] NVARCHAR(20)  NOT NULL,<br>    [title] NVARCHAR(30),<br>    [reports_to] INTEGER,<br>    [birthdate] DATETIME,<br>    [hire_date] DATETIME,<br>    [address] NVARCHAR(70),<br>    [city] NVARCHAR(40),<br>    [state] NVARCHAR(40),<br>    [country] NVARCHAR(40),<br>    [postal_code] NVARCHAR(10),<br>    [phone] NVARCHAR(24),<br>    [fax] NVARCHAR(24),<br>    [email] NVARCHAR(60),<br>    FOREIGN KEY ([reports_to]) REFERENCES [employee] ([employee_id]) <br>\t\tON DELETE NO ACTION ON UPDATE NO ACTION<br>)</td>\n",
       "    </tr>\n",
       "    <tr>\n",
       "        <td>genre</td>\n",
       "        <td>table</td>\n",
       "        <td>CREATE TABLE [genre]<br>(<br>    [genre_id] INTEGER PRIMARY KEY NOT NULL,<br>    [name] NVARCHAR(120)<br>)</td>\n",
       "    </tr>\n",
       "    <tr>\n",
       "        <td>invoice</td>\n",
       "        <td>table</td>\n",
       "        <td>CREATE TABLE [invoice]<br>(<br>    [invoice_id] INTEGER PRIMARY KEY NOT NULL,<br>    [customer_id] INTEGER  NOT NULL,<br>    [invoice_date] DATETIME  NOT NULL,<br>    [billing_address] NVARCHAR(70),<br>    [billing_city] NVARCHAR(40),<br>    [billing_state] NVARCHAR(40),<br>    [billing_country] NVARCHAR(40),<br>    [billing_postal_code] NVARCHAR(10),<br>    [total] NUMERIC(10,2)  NOT NULL,<br>    FOREIGN KEY ([customer_id]) REFERENCES [customer] ([customer_id]) <br>\t\tON DELETE NO ACTION ON UPDATE NO ACTION<br>)</td>\n",
       "    </tr>\n",
       "    <tr>\n",
       "        <td>invoice_line</td>\n",
       "        <td>table</td>\n",
       "        <td>CREATE TABLE [invoice_line]<br>(<br>    [invoice_line_id] INTEGER PRIMARY KEY NOT NULL,<br>    [invoice_id] INTEGER  NOT NULL,<br>    [track_id] INTEGER  NOT NULL,<br>    [unit_price] NUMERIC(10,2)  NOT NULL,<br>    [quantity] INTEGER  NOT NULL,<br>    FOREIGN KEY ([invoice_id]) REFERENCES [invoice] ([invoice_id]) <br>\t\tON DELETE NO ACTION ON UPDATE NO ACTION,<br>    FOREIGN KEY ([track_id]) REFERENCES [track] ([track_id]) <br>\t\tON DELETE NO ACTION ON UPDATE NO ACTION<br>)</td>\n",
       "    </tr>\n",
       "    <tr>\n",
       "        <td>media_type</td>\n",
       "        <td>table</td>\n",
       "        <td>CREATE TABLE [media_type]<br>(<br>    [media_type_id] INTEGER PRIMARY KEY NOT NULL,<br>    [name] NVARCHAR(120)<br>)</td>\n",
       "    </tr>\n",
       "    <tr>\n",
       "        <td>playlist</td>\n",
       "        <td>table</td>\n",
       "        <td>CREATE TABLE [playlist]<br>(<br>    [playlist_id] INTEGER PRIMARY KEY NOT NULL,<br>    [name] NVARCHAR(120)<br>)</td>\n",
       "    </tr>\n",
       "    <tr>\n",
       "        <td>playlist_track</td>\n",
       "        <td>table</td>\n",
       "        <td>CREATE TABLE [playlist_track]<br>(<br>    [playlist_id] INTEGER  NOT NULL,<br>    [track_id] INTEGER  NOT NULL,<br>    CONSTRAINT [pk_playlist_track] PRIMARY KEY  ([playlist_id], [track_id]),<br>    FOREIGN KEY ([playlist_id]) REFERENCES [playlist] ([playlist_id]) <br>\t\tON DELETE NO ACTION ON UPDATE NO ACTION,<br>    FOREIGN KEY ([track_id]) REFERENCES [track] ([track_id]) <br>\t\tON DELETE NO ACTION ON UPDATE NO ACTION<br>)</td>\n",
       "    </tr>\n",
       "    <tr>\n",
       "        <td>track</td>\n",
       "        <td>table</td>\n",
       "        <td>CREATE TABLE [track]<br>(<br>    [track_id] INTEGER PRIMARY KEY NOT NULL,<br>    [name] NVARCHAR(200)  NOT NULL,<br>    [album_id] INTEGER,<br>    [media_type_id] INTEGER  NOT NULL,<br>    [genre_id] INTEGER,<br>    [composer] NVARCHAR(220),<br>    [milliseconds] INTEGER  NOT NULL,<br>    [bytes] INTEGER,<br>    [unit_price] NUMERIC(10,2)  NOT NULL,<br>    FOREIGN KEY ([album_id]) REFERENCES [album] ([album_id]) <br>\t\tON DELETE NO ACTION ON UPDATE NO ACTION,<br>    FOREIGN KEY ([genre_id]) REFERENCES [genre] ([genre_id]) <br>\t\tON DELETE NO ACTION ON UPDATE NO ACTION,<br>    FOREIGN KEY ([media_type_id]) REFERENCES [media_type] ([media_type_id]) <br>\t\tON DELETE NO ACTION ON UPDATE NO ACTION<br>)</td>\n",
       "    </tr>\n",
       "</table>"
      ],
      "text/plain": [
       "[('album', 'table', 'CREATE TABLE [album]\\n(\\n    [album_id] INTEGER PRIMARY KEY NOT NULL,\\n    [title] NVARCHAR(160)  NOT NULL,\\n    [artist_id] INTEGER  NOT NULL,\\n    FOREIGN KEY ([artist_id]) REFERENCES [artist] ([artist_id]) \\n\\t\\tON DELETE NO ACTION ON UPDATE NO ACTION\\n)'),\n",
       " ('artist', 'table', 'CREATE TABLE [artist]\\n(\\n    [artist_id] INTEGER PRIMARY KEY NOT NULL,\\n    [name] NVARCHAR(120)\\n)'),\n",
       " ('customer', 'table', 'CREATE TABLE [customer]\\n(\\n    [customer_id] INTEGER PRIMARY KEY NOT NULL,\\n    [first_name] NVARCHAR(40)  NOT NULL,\\n    [last_name] NVARCHAR(20)   ... (276 characters truncated) ...  [support_rep_id] INTEGER,\\n    FOREIGN KEY ([support_rep_id]) REFERENCES [employee] ([employee_id]) \\n\\t\\tON DELETE NO ACTION ON UPDATE NO ACTION\\n)'),\n",
       " ('employee', 'table', 'CREATE TABLE [employee]\\n(\\n    [employee_id] INTEGER PRIMARY KEY NOT NULL,\\n    [last_name] NVARCHAR(20)  NOT NULL,\\n    [first_name] NVARCHAR(20)   ... (310 characters truncated) ... 4),\\n    [email] NVARCHAR(60),\\n    FOREIGN KEY ([reports_to]) REFERENCES [employee] ([employee_id]) \\n\\t\\tON DELETE NO ACTION ON UPDATE NO ACTION\\n)'),\n",
       " ('genre', 'table', 'CREATE TABLE [genre]\\n(\\n    [genre_id] INTEGER PRIMARY KEY NOT NULL,\\n    [name] NVARCHAR(120)\\n)'),\n",
       " ('invoice', 'table', 'CREATE TABLE [invoice]\\n(\\n    [invoice_id] INTEGER PRIMARY KEY NOT NULL,\\n    [customer_id] INTEGER  NOT NULL,\\n    [invoice_date] DATETIME  NOT NUL ... (195 characters truncated) ... tal] NUMERIC(10,2)  NOT NULL,\\n    FOREIGN KEY ([customer_id]) REFERENCES [customer] ([customer_id]) \\n\\t\\tON DELETE NO ACTION ON UPDATE NO ACTION\\n)'),\n",
       " ('invoice_line', 'table', 'CREATE TABLE [invoice_line]\\n(\\n    [invoice_line_id] INTEGER PRIMARY KEY NOT NULL,\\n    [invoice_id] INTEGER  NOT NULL,\\n    [track_id] INTEGER  NOT ... (161 characters truncated) ...  DELETE NO ACTION ON UPDATE NO ACTION,\\n    FOREIGN KEY ([track_id]) REFERENCES [track] ([track_id]) \\n\\t\\tON DELETE NO ACTION ON UPDATE NO ACTION\\n)'),\n",
       " ('media_type', 'table', 'CREATE TABLE [media_type]\\n(\\n    [media_type_id] INTEGER PRIMARY KEY NOT NULL,\\n    [name] NVARCHAR(120)\\n)'),\n",
       " ('playlist', 'table', 'CREATE TABLE [playlist]\\n(\\n    [playlist_id] INTEGER PRIMARY KEY NOT NULL,\\n    [name] NVARCHAR(120)\\n)'),\n",
       " ('playlist_track', 'table', 'CREATE TABLE [playlist_track]\\n(\\n    [playlist_id] INTEGER  NOT NULL,\\n    [track_id] INTEGER  NOT NULL,\\n    CONSTRAINT [pk_playlist_track] PRIMARY ... (114 characters truncated) ...  DELETE NO ACTION ON UPDATE NO ACTION,\\n    FOREIGN KEY ([track_id]) REFERENCES [track] ([track_id]) \\n\\t\\tON DELETE NO ACTION ON UPDATE NO ACTION\\n)'),\n",
       " ('track', 'table', 'CREATE TABLE [track]\\n(\\n    [track_id] INTEGER PRIMARY KEY NOT NULL,\\n    [name] NVARCHAR(200)  NOT NULL,\\n    [album_id] INTEGER,\\n    [media_type_ ... (377 characters truncated) ... ON ON UPDATE NO ACTION,\\n    FOREIGN KEY ([media_type_id]) REFERENCES [media_type] ([media_type_id]) \\n\\t\\tON DELETE NO ACTION ON UPDATE NO ACTION\\n)')]"
      ]
     },
     "execution_count": 29,
     "metadata": {},
     "output_type": "execute_result"
    }
   ],
   "source": [
    "%%sql\n",
    "SELECT\n",
    "    name,\n",
    "    type,\n",
    "    sql\n",
    "FROM sqlite_master\n",
    "WHERE type IN (\"table\");"
   ]
  },
  {
   "cell_type": "markdown",
   "metadata": {},
   "source": [
    "## New Record Label\n",
    "\n",
    "The Chinook record store has just signed a deal with a new record label, and you've been tasked with selecting the first three albums that will be added to the store, from a list of four. All four albums are by artists that don't have any tracks in the store right now - we have the artist names, and the genre of music they produce:\n",
    "\n",
    "| Artist Name | Genre |\n",
    "| --- | --- |\n",
    "|Regal | Hip-Hop |\n",
    "| Red Tone | Punk |\n",
    "| Meteor and the Girls | Pop|\n",
    "| Slim Jim Bites | Blues |\n",
    "\n",
    "\n",
    "The record label specializes in artists from the USA, and they have given Chinook some money to advertise the new albums in the USA, so we're interested in finding out which genres sell the best in the USA."
   ]
  },
  {
   "cell_type": "code",
   "execution_count": 30,
   "metadata": {
    "collapsed": false
   },
   "outputs": [
    {
     "name": "stdout",
     "output_type": "stream",
     "text": [
      "Done.\n"
     ]
    },
    {
     "data": {
      "text/html": [
       "<table>\n",
       "    <tr>\n",
       "        <th>genre_name</th>\n",
       "        <th>genre_id</th>\n",
       "        <th>number_of_sold_tracks</th>\n",
       "    </tr>\n",
       "    <tr>\n",
       "        <td>Rock</td>\n",
       "        <td>1</td>\n",
       "        <td>2635</td>\n",
       "    </tr>\n",
       "    <tr>\n",
       "        <td>Metal</td>\n",
       "        <td>3</td>\n",
       "        <td>619</td>\n",
       "    </tr>\n",
       "    <tr>\n",
       "        <td>Alternative &amp; Punk</td>\n",
       "        <td>4</td>\n",
       "        <td>492</td>\n",
       "    </tr>\n",
       "    <tr>\n",
       "        <td>Latin</td>\n",
       "        <td>7</td>\n",
       "        <td>167</td>\n",
       "    </tr>\n",
       "    <tr>\n",
       "        <td>R&amp;B/Soul</td>\n",
       "        <td>14</td>\n",
       "        <td>159</td>\n",
       "    </tr>\n",
       "    <tr>\n",
       "        <td>Blues</td>\n",
       "        <td>6</td>\n",
       "        <td>124</td>\n",
       "    </tr>\n",
       "    <tr>\n",
       "        <td>Jazz</td>\n",
       "        <td>2</td>\n",
       "        <td>121</td>\n",
       "    </tr>\n",
       "    <tr>\n",
       "        <td>Alternative</td>\n",
       "        <td>23</td>\n",
       "        <td>117</td>\n",
       "    </tr>\n",
       "    <tr>\n",
       "        <td>Easy Listening</td>\n",
       "        <td>12</td>\n",
       "        <td>74</td>\n",
       "    </tr>\n",
       "    <tr>\n",
       "        <td>Pop</td>\n",
       "        <td>9</td>\n",
       "        <td>63</td>\n",
       "    </tr>\n",
       "    <tr>\n",
       "        <td>Electronica/Dance</td>\n",
       "        <td>15</td>\n",
       "        <td>55</td>\n",
       "    </tr>\n",
       "    <tr>\n",
       "        <td>Classical</td>\n",
       "        <td>24</td>\n",
       "        <td>47</td>\n",
       "    </tr>\n",
       "    <tr>\n",
       "        <td>Reggae</td>\n",
       "        <td>8</td>\n",
       "        <td>35</td>\n",
       "    </tr>\n",
       "    <tr>\n",
       "        <td>Hip Hop/Rap</td>\n",
       "        <td>17</td>\n",
       "        <td>33</td>\n",
       "    </tr>\n",
       "    <tr>\n",
       "        <td>Heavy Metal</td>\n",
       "        <td>13</td>\n",
       "        <td>8</td>\n",
       "    </tr>\n",
       "    <tr>\n",
       "        <td>Soundtrack</td>\n",
       "        <td>10</td>\n",
       "        <td>5</td>\n",
       "    </tr>\n",
       "    <tr>\n",
       "        <td>TV Shows</td>\n",
       "        <td>19</td>\n",
       "        <td>2</td>\n",
       "    </tr>\n",
       "    <tr>\n",
       "        <td>Drama</td>\n",
       "        <td>21</td>\n",
       "        <td>1</td>\n",
       "    </tr>\n",
       "    <tr>\n",
       "        <td>Rock And Roll</td>\n",
       "        <td>5</td>\n",
       "        <td>None</td>\n",
       "    </tr>\n",
       "    <tr>\n",
       "        <td>Bossa Nova</td>\n",
       "        <td>11</td>\n",
       "        <td>None</td>\n",
       "    </tr>\n",
       "    <tr>\n",
       "        <td>World</td>\n",
       "        <td>16</td>\n",
       "        <td>None</td>\n",
       "    </tr>\n",
       "    <tr>\n",
       "        <td>Science Fiction</td>\n",
       "        <td>18</td>\n",
       "        <td>None</td>\n",
       "    </tr>\n",
       "    <tr>\n",
       "        <td>Sci Fi &amp; Fantasy</td>\n",
       "        <td>20</td>\n",
       "        <td>None</td>\n",
       "    </tr>\n",
       "    <tr>\n",
       "        <td>Comedy</td>\n",
       "        <td>22</td>\n",
       "        <td>None</td>\n",
       "    </tr>\n",
       "    <tr>\n",
       "        <td>Opera</td>\n",
       "        <td>25</td>\n",
       "        <td>None</td>\n",
       "    </tr>\n",
       "</table>"
      ],
      "text/plain": [
       "[('Rock', 1, 2635),\n",
       " ('Metal', 3, 619),\n",
       " ('Alternative & Punk', 4, 492),\n",
       " ('Latin', 7, 167),\n",
       " ('R&B/Soul', 14, 159),\n",
       " ('Blues', 6, 124),\n",
       " ('Jazz', 2, 121),\n",
       " ('Alternative', 23, 117),\n",
       " ('Easy Listening', 12, 74),\n",
       " ('Pop', 9, 63),\n",
       " ('Electronica/Dance', 15, 55),\n",
       " ('Classical', 24, 47),\n",
       " ('Reggae', 8, 35),\n",
       " ('Hip Hop/Rap', 17, 33),\n",
       " ('Heavy Metal', 13, 8),\n",
       " ('Soundtrack', 10, 5),\n",
       " ('TV Shows', 19, 2),\n",
       " ('Drama', 21, 1),\n",
       " ('Rock And Roll', 5, None),\n",
       " ('Bossa Nova', 11, None),\n",
       " ('World', 16, None),\n",
       " ('Science Fiction', 18, None),\n",
       " ('Sci Fi & Fantasy', 20, None),\n",
       " ('Comedy', 22, None),\n",
       " ('Opera', 25, None)]"
      ]
     },
     "execution_count": 30,
     "metadata": {},
     "output_type": "execute_result"
    }
   ],
   "source": [
    "%%sql\n",
    "/* Genres with the most tracks sold in the USA */\n",
    "\n",
    "SELECT g.name AS genre_name, g.genre_id AS genre_id, SUM(i.quantity) AS number_of_sold_tracks\n",
    "FROM genre g\n",
    "INNER JOIN track t ON g.genre_id = t.genre_id\n",
    "LEFT JOIN invoice_line i ON i.track_id = t.track_id\n",
    "GROUP BY t.genre_id\n",
    "ORDER BY 3 DESC"
   ]
  },
  {
   "cell_type": "markdown",
   "metadata": {},
   "source": [
    "### Observations\n",
    "We can see that Punk, Blues, and Pop are the top three with consideration of the artists we signed. Therefore, purchasing album's from Red Tone, Slim Jim Bites, Meteor and the Girls in that order should yield the most optimal results."
   ]
  },
  {
   "cell_type": "markdown",
   "metadata": {},
   "source": [
    "## Sales Support Agents (SSA)\n",
    "Each customer for the Chinook store gets assigned to a sales support agent within the company when they first make a purchase. You have been asked to analyze the purchases of customers belonging to each employee to see if any sales support agent is performing either better or worse than the others."
   ]
  },
  {
   "cell_type": "code",
   "execution_count": 31,
   "metadata": {
    "collapsed": false
   },
   "outputs": [
    {
     "name": "stdout",
     "output_type": "stream",
     "text": [
      "Done.\n"
     ]
    },
    {
     "data": {
      "text/html": [
       "<table>\n",
       "    <tr>\n",
       "        <th>employee_id</th>\n",
       "        <th>name</th>\n",
       "        <th>title</th>\n",
       "        <th>reports_to</th>\n",
       "        <th>hire_date</th>\n",
       "        <th>Total_Sales</th>\n",
       "    </tr>\n",
       "    <tr>\n",
       "        <td>3</td>\n",
       "        <td>Jane Peacock</td>\n",
       "        <td>Sales Support Agent</td>\n",
       "        <td>2</td>\n",
       "        <td>2017-04-01 00:00:00</td>\n",
       "        <td>1731.51</td>\n",
       "    </tr>\n",
       "    <tr>\n",
       "        <td>4</td>\n",
       "        <td>Margaret Park</td>\n",
       "        <td>Sales Support Agent</td>\n",
       "        <td>2</td>\n",
       "        <td>2017-05-03 00:00:00</td>\n",
       "        <td>1584.0</td>\n",
       "    </tr>\n",
       "    <tr>\n",
       "        <td>5</td>\n",
       "        <td>Steve Johnson</td>\n",
       "        <td>Sales Support Agent</td>\n",
       "        <td>2</td>\n",
       "        <td>2017-10-17 00:00:00</td>\n",
       "        <td>1393.92</td>\n",
       "    </tr>\n",
       "</table>"
      ],
      "text/plain": [
       "[(3, 'Jane Peacock', 'Sales Support Agent', 2, '2017-04-01 00:00:00', 1731.51),\n",
       " (4, 'Margaret Park', 'Sales Support Agent', 2, '2017-05-03 00:00:00', 1584.0),\n",
       " (5, 'Steve Johnson', 'Sales Support Agent', 2, '2017-10-17 00:00:00', 1393.92)]"
      ]
     },
     "execution_count": 31,
     "metadata": {},
     "output_type": "execute_result"
    }
   ],
   "source": [
    "%%sql\n",
    "/* Show all Support Agents and Sales */\n",
    "\n",
    "SELECT e.employee_id, \n",
    "       e.first_name || ' ' || e.last_name AS 'name', \n",
    "       e.title, e.reports_to, \n",
    "       e.hire_date, \n",
    "       ROUND(SUM(i.total), 2) AS 'Total_Sales'\n",
    "FROM invoice i\n",
    "INNER JOIN customer c ON i.customer_id = c.customer_id\n",
    "INNER JOIN employee e ON e.employee_id = c.support_rep_id\n",
    "GROUP BY 1"
   ]
  },
  {
   "cell_type": "markdown",
   "metadata": {},
   "source": [
    "### Observations\n",
    "\n",
    "The task requested was to find the total dollar amount of sales assigned to each support agent and to determine performance. All SSA's started in the same year, with Jane P. having the most sales followed by Margaret, and Steve. The difference may correspond with their hiring dates.  More metrics can be brought in for analysis such as if any SSA's are showing growth in their sales over time.\n",
    "\n",
    "Below is a table joining all customer's invoice dates to assigned employees. We can analyze below to see if SSA's show more sales from a customer after they've been assigned to determine other trends."
   ]
  },
  {
   "cell_type": "code",
   "execution_count": 32,
   "metadata": {
    "collapsed": false
   },
   "outputs": [
    {
     "name": "stdout",
     "output_type": "stream",
     "text": [
      "Done.\n"
     ]
    },
    {
     "data": {
      "text/html": [
       "<table>\n",
       "    <tr>\n",
       "        <th>Employee</th>\n",
       "        <th>Customer</th>\n",
       "        <th>Invoice Date</th>\n",
       "        <th>Total</th>\n",
       "    </tr>\n",
       "    <tr>\n",
       "        <td>Jane Peacock</td>\n",
       "        <td>Edward Francis</td>\n",
       "        <td>2017-01-03 00:00:00</td>\n",
       "        <td>9.9</td>\n",
       "    </tr>\n",
       "    <tr>\n",
       "        <td>Jane Peacock</td>\n",
       "        <td>Edward Francis</td>\n",
       "        <td>2017-02-21 00:00:00</td>\n",
       "        <td>12.87</td>\n",
       "    </tr>\n",
       "    <tr>\n",
       "        <td>Jane Peacock</td>\n",
       "        <td>Edward Francis</td>\n",
       "        <td>2017-06-20 00:00:00</td>\n",
       "        <td>7.92</td>\n",
       "    </tr>\n",
       "    <tr>\n",
       "        <td>Jane Peacock</td>\n",
       "        <td>Edward Francis</td>\n",
       "        <td>2017-08-27 00:00:00</td>\n",
       "        <td>4.95</td>\n",
       "    </tr>\n",
       "    <tr>\n",
       "        <td>Jane Peacock</td>\n",
       "        <td>Edward Francis</td>\n",
       "        <td>2018-12-14 00:00:00</td>\n",
       "        <td>5.94</td>\n",
       "    </tr>\n",
       "    <tr>\n",
       "        <td>Jane Peacock</td>\n",
       "        <td>Edward Francis</td>\n",
       "        <td>2019-01-24 00:00:00</td>\n",
       "        <td>4.95</td>\n",
       "    </tr>\n",
       "    <tr>\n",
       "        <td>Jane Peacock</td>\n",
       "        <td>Edward Francis</td>\n",
       "        <td>2019-07-20 00:00:00</td>\n",
       "        <td>3.96</td>\n",
       "    </tr>\n",
       "    <tr>\n",
       "        <td>Jane Peacock</td>\n",
       "        <td>Edward Francis</td>\n",
       "        <td>2020-01-19 00:00:00</td>\n",
       "        <td>3.96</td>\n",
       "    </tr>\n",
       "    <tr>\n",
       "        <td>Jane Peacock</td>\n",
       "        <td>Edward Francis</td>\n",
       "        <td>2020-06-02 00:00:00</td>\n",
       "        <td>9.9</td>\n",
       "    </tr>\n",
       "    <tr>\n",
       "        <td>Jane Peacock</td>\n",
       "        <td>Edward Francis</td>\n",
       "        <td>2020-08-02 00:00:00</td>\n",
       "        <td>10.89</td>\n",
       "    </tr>\n",
       "</table>"
      ],
      "text/plain": [
       "[('Jane Peacock', 'Edward Francis', '2017-01-03 00:00:00', 9.9),\n",
       " ('Jane Peacock', 'Edward Francis', '2017-02-21 00:00:00', 12.87),\n",
       " ('Jane Peacock', 'Edward Francis', '2017-06-20 00:00:00', 7.92),\n",
       " ('Jane Peacock', 'Edward Francis', '2017-08-27 00:00:00', 4.95),\n",
       " ('Jane Peacock', 'Edward Francis', '2018-12-14 00:00:00', 5.94),\n",
       " ('Jane Peacock', 'Edward Francis', '2019-01-24 00:00:00', 4.95),\n",
       " ('Jane Peacock', 'Edward Francis', '2019-07-20 00:00:00', 3.96),\n",
       " ('Jane Peacock', 'Edward Francis', '2020-01-19 00:00:00', 3.96),\n",
       " ('Jane Peacock', 'Edward Francis', '2020-06-02 00:00:00', 9.9),\n",
       " ('Jane Peacock', 'Edward Francis', '2020-08-02 00:00:00', 10.89)]"
      ]
     },
     "execution_count": 32,
     "metadata": {},
     "output_type": "execute_result"
    }
   ],
   "source": [
    "%%sql\n",
    "/* Show all invoices respective to each customer and SSAs. Limited to 10 to simplify report. */\n",
    "/* Raw data could be plotted on a visualization */\n",
    "\n",
    "SELECT e.first_name || ' ' || e.last_name AS Employee,\n",
    "       c.first_name || ' ' || c.Last_name AS Customer,\n",
    "       i.invoice_date AS 'Invoice Date', \n",
    "       ROUND(i.total, 2) AS Total\n",
    "FROM invoice i\n",
    "INNER JOIN customer c ON i.customer_id = c.customer_id\n",
    "INNER JOIN employee e ON e.employee_id = c.support_rep_id\n",
    "GROUP BY 1, 2, 3\n",
    "LIMIT 10"
   ]
  },
  {
   "cell_type": "markdown",
   "metadata": {},
   "source": [
    "## Sales by Country\n",
    "Your next task is to analyze the sales data for customers from each different country. You have been given guidance to use the country value from the customers table, and ignore the country from the billing address in the invoice table.\n",
    "\n",
    "In particular, you have been directed to calculate data, for each country, on the:\n",
    "- total number of customers\n",
    "- total value of sales\n",
    "- average value of sales per customer\n",
    "- average order value\n"
   ]
  },
  {
   "cell_type": "code",
   "execution_count": 33,
   "metadata": {
    "collapsed": false
   },
   "outputs": [
    {
     "name": "stdout",
     "output_type": "stream",
     "text": [
      "Done.\n"
     ]
    },
    {
     "data": {
      "text/html": [
       "<table>\n",
       "    <tr>\n",
       "        <th>country</th>\n",
       "        <th>customer_id</th>\n",
       "        <th>invoice_id</th>\n",
       "        <th>total</th>\n",
       "    </tr>\n",
       "    <tr>\n",
       "        <td>USA</td>\n",
       "        <td>18</td>\n",
       "        <td>1</td>\n",
       "        <td>15.84</td>\n",
       "    </tr>\n",
       "    <tr>\n",
       "        <td>Canada</td>\n",
       "        <td>30</td>\n",
       "        <td>2</td>\n",
       "        <td>9.9</td>\n",
       "    </tr>\n",
       "    <tr>\n",
       "        <td>France</td>\n",
       "        <td>40</td>\n",
       "        <td>3</td>\n",
       "        <td>1.98</td>\n",
       "    </tr>\n",
       "    <tr>\n",
       "        <td>USA</td>\n",
       "        <td>18</td>\n",
       "        <td>4</td>\n",
       "        <td>7.92</td>\n",
       "    </tr>\n",
       "    <tr>\n",
       "        <td>USA</td>\n",
       "        <td>27</td>\n",
       "        <td>5</td>\n",
       "        <td>16.83</td>\n",
       "    </tr>\n",
       "    <tr>\n",
       "        <td>Canada</td>\n",
       "        <td>31</td>\n",
       "        <td>6</td>\n",
       "        <td>1.98</td>\n",
       "    </tr>\n",
       "    <tr>\n",
       "        <td>Other</td>\n",
       "        <td>49</td>\n",
       "        <td>7</td>\n",
       "        <td>10.89</td>\n",
       "    </tr>\n",
       "    <tr>\n",
       "        <td>India</td>\n",
       "        <td>59</td>\n",
       "        <td>8</td>\n",
       "        <td>9.9</td>\n",
       "    </tr>\n",
       "    <tr>\n",
       "        <td>USA</td>\n",
       "        <td>18</td>\n",
       "        <td>9</td>\n",
       "        <td>8.91</td>\n",
       "    </tr>\n",
       "    <tr>\n",
       "        <td>Canada</td>\n",
       "        <td>31</td>\n",
       "        <td>10</td>\n",
       "        <td>1.98</td>\n",
       "    </tr>\n",
       "</table>"
      ],
      "text/plain": [
       "[('USA', 18, 1, 15.84),\n",
       " ('Canada', 30, 2, 9.9),\n",
       " ('France', 40, 3, 1.98),\n",
       " ('USA', 18, 4, 7.92),\n",
       " ('USA', 27, 5, 16.83),\n",
       " ('Canada', 31, 6, 1.98),\n",
       " ('Other', 49, 7, 10.89),\n",
       " ('India', 59, 8, 9.9),\n",
       " ('USA', 18, 9, 8.91),\n",
       " ('Canada', 31, 10, 1.98)]"
      ]
     },
     "execution_count": 33,
     "metadata": {},
     "output_type": "execute_result"
    }
   ],
   "source": [
    "%%sql\n",
    "/* This query used to sort the group the sales data by invoice_id and filter countries with one customer to 'other' */\n",
    "/* This query is also necessary to stage for the original requested task */\n",
    "\n",
    "SELECT CASE WHEN (\n",
    "                  SELECT COUNT(*)\n",
    "                  FROM customer\n",
    "                  WHERE country = c.country\n",
    "                 ) = 1 THEN 'Other'\n",
    "            ELSE country\n",
    "       END AS country,\n",
    "       c.customer_id AS customer_id,\n",
    "       i.invoice_id AS invoice_id,\n",
    "       i.total AS total\n",
    "FROM customer c\n",
    "INNER JOIN invoice i ON c.customer_id = i.customer_id\n",
    "LIMIT 10"
   ]
  },
  {
   "cell_type": "code",
   "execution_count": 34,
   "metadata": {
    "collapsed": false
   },
   "outputs": [
    {
     "name": "stdout",
     "output_type": "stream",
     "text": [
      "Done.\n"
     ]
    },
    {
     "data": {
      "text/html": [
       "<table>\n",
       "    <tr>\n",
       "        <th>country</th>\n",
       "        <th>total_customers</th>\n",
       "        <th>total_sales</th>\n",
       "        <th>cus_order_lifetime</th>\n",
       "        <th>avg_inv_order</th>\n",
       "    </tr>\n",
       "    <tr>\n",
       "        <td>USA</td>\n",
       "        <td>13</td>\n",
       "        <td>1040.49</td>\n",
       "        <td>80.04</td>\n",
       "        <td>7.94</td>\n",
       "    </tr>\n",
       "    <tr>\n",
       "        <td>Canada</td>\n",
       "        <td>8</td>\n",
       "        <td>535.59</td>\n",
       "        <td>66.95</td>\n",
       "        <td>7.05</td>\n",
       "    </tr>\n",
       "    <tr>\n",
       "        <td>Brazil</td>\n",
       "        <td>5</td>\n",
       "        <td>427.68</td>\n",
       "        <td>85.54</td>\n",
       "        <td>7.01</td>\n",
       "    </tr>\n",
       "    <tr>\n",
       "        <td>France</td>\n",
       "        <td>5</td>\n",
       "        <td>389.07</td>\n",
       "        <td>77.81</td>\n",
       "        <td>7.78</td>\n",
       "    </tr>\n",
       "    <tr>\n",
       "        <td>Germany</td>\n",
       "        <td>4</td>\n",
       "        <td>334.62</td>\n",
       "        <td>83.66</td>\n",
       "        <td>8.16</td>\n",
       "    </tr>\n",
       "    <tr>\n",
       "        <td>Czech Republic</td>\n",
       "        <td>2</td>\n",
       "        <td>273.24</td>\n",
       "        <td>136.62</td>\n",
       "        <td>9.11</td>\n",
       "    </tr>\n",
       "    <tr>\n",
       "        <td>United Kingdom</td>\n",
       "        <td>3</td>\n",
       "        <td>245.52</td>\n",
       "        <td>81.84</td>\n",
       "        <td>8.77</td>\n",
       "    </tr>\n",
       "    <tr>\n",
       "        <td>Portugal</td>\n",
       "        <td>2</td>\n",
       "        <td>185.13</td>\n",
       "        <td>92.57</td>\n",
       "        <td>6.38</td>\n",
       "    </tr>\n",
       "    <tr>\n",
       "        <td>India</td>\n",
       "        <td>2</td>\n",
       "        <td>183.15</td>\n",
       "        <td>91.57</td>\n",
       "        <td>8.72</td>\n",
       "    </tr>\n",
       "    <tr>\n",
       "        <td>Other</td>\n",
       "        <td>15</td>\n",
       "        <td>1094.94</td>\n",
       "        <td>73.0</td>\n",
       "        <td>7.45</td>\n",
       "    </tr>\n",
       "</table>"
      ],
      "text/plain": [
       "[('USA', 13, 1040.49, 80.04, 7.94),\n",
       " ('Canada', 8, 535.59, 66.95, 7.05),\n",
       " ('Brazil', 5, 427.68, 85.54, 7.01),\n",
       " ('France', 5, 389.07, 77.81, 7.78),\n",
       " ('Germany', 4, 334.62, 83.66, 8.16),\n",
       " ('Czech Republic', 2, 273.24, 136.62, 9.11),\n",
       " ('United Kingdom', 3, 245.52, 81.84, 8.77),\n",
       " ('Portugal', 2, 185.13, 92.57, 6.38),\n",
       " ('India', 2, 183.15, 91.57, 8.72),\n",
       " ('Other', 15, 1094.94, 73.0, 7.45)]"
      ]
     },
     "execution_count": 34,
     "metadata": {},
     "output_type": "execute_result"
    }
   ],
   "source": [
    "%%sql\n",
    "/* Final Cell to calcualte sales by Country */\n",
    "\n",
    "\n",
    "/* This subquery is the same as the mentioned above query that is necessary */\n",
    "\n",
    "WITH country_other AS\n",
    "(\n",
    "SELECT CASE WHEN (\n",
    "                  SELECT COUNT(*)\n",
    "                  FROM customer\n",
    "                  WHERE country = c.country\n",
    "                 ) = 1 THEN 'Other'\n",
    "            ELSE country\n",
    "       END AS country,\n",
    "       c.customer_id AS customer_id,\n",
    "       i.invoice_id AS invoice_id,\n",
    "       i.total AS total\n",
    "FROM customer c\n",
    "INNER JOIN invoice i ON c.customer_id = i.customer_id\n",
    ")\n",
    "\n",
    "\n",
    "/* Calculate Sales by Country, with countries with one customer labelled as other and put in 'other' group */\n",
    "\n",
    "SELECT\n",
    "    country,\n",
    "    COUNT(DISTINCT customer_id) AS total_customers,\n",
    "    ROUND(SUM(total), 2) AS total_sales,\n",
    "    ROUND(SUM(total) / COUNT(distinct customer_id), 2) AS cus_order_lifetime,\n",
    "    ROUND(SUM(total) / COUNT(DISTINCT invoice_id), 2) AS avg_inv_order\n",
    "FROM (\n",
    "      SELECT *,\n",
    "             CASE WHEN country = 'Other' THEN 1 ELSE 0\n",
    "             END AS sort\n",
    "      FROM country_other\n",
    "     )\n",
    "GROUP BY country\n",
    "ORDER by sort, total_sales DESC"
   ]
  },
  {
   "cell_type": "markdown",
   "metadata": {},
   "source": [
    "### Observations:\n",
    "USA has generated the most sales over time, along with having the most customers in one country. Growth is also shown in countries where cus_order_lifetime is high, while total_customers is low in places such as Czech, India, and Portugal. Countries categorized in 'other' also make up for a significant amount of sales, and should be noted."
   ]
  },
  {
   "cell_type": "markdown",
   "metadata": {},
   "source": [
    "## New Purchasing Strategy\n",
    "\n",
    "The Chinook store is setup in a way that allows customer to make purchases in one of the two ways:\n",
    "\n",
    "- purchase a whole album\n",
    "- purchase a collection of one or more individual tracks.\n",
    "\n",
    "The store does not let customers purchase a whole album, and then add individual tracks to that same purchase (unless they do that by choosing each track manually). When customers purchase albums they are charged the same price as if they had purchased each of those tracks separately.\n",
    "\n",
    "Management are currently considering changing their purchasing strategy to save money. The strategy they are considering is to purchase only the most popular tracks from each album from record companies, instead of purchasing every track from an album.\n",
    "\n",
    "We have been asked to find out what percentage of purchases are individual tracks vs whole albums, so that management can use this data to understand the effect this decision might have on overall revenue."
   ]
  },
  {
   "cell_type": "code",
   "execution_count": 35,
   "metadata": {
    "collapsed": false
   },
   "outputs": [
    {
     "name": "stdout",
     "output_type": "stream",
     "text": [
      "Done.\n"
     ]
    },
    {
     "data": {
      "text/html": [
       "<table>\n",
       "    <tr>\n",
       "        <th>Album_purchase</th>\n",
       "        <th>Number_of_invoices</th>\n",
       "        <th>Percentage</th>\n",
       "    </tr>\n",
       "    <tr>\n",
       "        <td>No</td>\n",
       "        <td>264</td>\n",
       "        <td>0.43</td>\n",
       "    </tr>\n",
       "    <tr>\n",
       "        <td>Yes</td>\n",
       "        <td>350</td>\n",
       "        <td>0.57</td>\n",
       "    </tr>\n",
       "</table>"
      ],
      "text/plain": [
       "[('No', 264, 0.43), ('Yes', 350, 0.57)]"
      ]
     },
     "execution_count": 35,
     "metadata": {},
     "output_type": "execute_result"
    }
   ],
   "source": [
    "%%sql\n",
    "/* Subquery selects first track from each invoice */\n",
    "\n",
    "WITH invoice_first_track AS\n",
    "(\n",
    "SELECT invoice_id, \n",
    "       MIN(track_id) AS track_id\n",
    "FROM invoice_line\n",
    "GROUP BY 1\n",
    ")\n",
    "\n",
    "/* Determines whether if invoice was an album purchase or not */\n",
    "\n",
    "SELECT Album_purchase,\n",
    "       COUNT(invoice_id) AS 'Number_of_invoices',\n",
    "       ROUND(CAST(COUNT(invoice_id) AS FLOAT) / (SELECT COUNT(*) FROM invoice), 2) AS 'Percentage'\n",
    "FROM\n",
    "(\n",
    "    SELECT ifs.*,\n",
    "       CASE\n",
    "        WHEN(\n",
    "            SELECT t.track_id\n",
    "            FROM track t\n",
    "            WHERE t.album_id = (SELECT t2.album_id FROM track t2\n",
    "                                WHERE t2.album_id = ifs.track_id)\n",
    "        \n",
    "            EXCEPT\n",
    "            \n",
    "            SELECT track_id FROM invoice_line\n",
    "            WHERE invoice_id = ifs.invoice_id\n",
    "            ) IS NULL THEN 'Yes'\n",
    "        ELSE 'No'\n",
    "        END AS 'Album_purchase'\n",
    "    FROM invoice_first_track AS ifs\n",
    ")\n",
    "GROUP BY 1"
   ]
  },
  {
   "cell_type": "markdown",
   "metadata": {},
   "source": [
    "### Observation\n",
    "Album and non-Album purchases are split 57% and 43% respectively. Management's purchasing strategy of only acquiring the most popular tracks should not be advised, given that 57% of invoices are album purchases"
   ]
  },
  {
   "cell_type": "markdown",
   "metadata": {},
   "source": [
    "## Summary\n",
    "- Albums from Meteor and the Girls, Red Tone, and Slim Jim Bites should yield the most sales from the newly signed record label.\n",
    "- The differences in sales across each agents is roughly explained by their hiring dates.\n",
    "- USA has generated the most sales over time.\n",
    "- Countries in 'Other' category should be noted as they make up a significant amount after addition.\n",
    "- Growth shown in countries with high cus_order_lifetime (high spend), and low total_customers.\n",
    "- It is not advisable for management to switch their purchasing strategy to only acquire the most popular track, as 57% of invoices are album purchases"
   ]
  }
 ],
 "metadata": {
  "kernelspec": {
   "display_name": "Python 3",
   "language": "python",
   "name": "python3"
  },
  "language_info": {
   "codemirror_mode": {
    "name": "ipython",
    "version": 3
   },
   "file_extension": ".py",
   "mimetype": "text/x-python",
   "name": "python",
   "nbconvert_exporter": "python",
   "pygments_lexer": "ipython3",
   "version": "3.4.3"
  }
 },
 "nbformat": 4,
 "nbformat_minor": 2
}
